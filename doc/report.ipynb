{
 "cells": [
  {
   "cell_type": "markdown",
   "metadata": {},
   "source": [
    "# Trabajo practico 1"
   ]
  },
  {
   "cell_type": "markdown",
   "metadata": {},
   "source": [
    "Utilizando Matlab, Octave o Python implementar un **Generador Congruencial Lineal** (GCL) de módulo 232, multiplicador 1013904223, incremento de 1664525 y semilla igual a la parte entera del promedio de los números de padrón de los integrantes del grupo.\n",
    "\n",
    "a) Informar los primeros 10 números generados.\n",
    "\n",
    "b) Modificar el GCL para que devuelva números al azar entre 0 y 1.\n",
    "\n",
    "c) Realizar un histograma mostrando 100.000 valores generados en el punto b."
   ]
  },
  {
   "cell_type": "code",
   "execution_count": 2,
   "metadata": {},
   "outputs": [
    {
     "name": "stdout",
     "output_type": "stream",
     "text": [
      "211\n",
      "90\n",
      "179\n",
      "10\n",
      "211\n",
      "90\n",
      "179\n",
      "10\n",
      "211\n",
      "90\n"
     ]
    }
   ],
   "source": [
    "# a\n",
    "def gcl(seed = 10, iterations = 10, multiplier = 1013904223, addition = 1664525, module = 232):\n",
    "  x = seed\n",
    "  for _ in range(iterations):\n",
    "    x = (multiplier * x + addition) % module\n",
    "    print(x)\n",
    "\n",
    "gcl()"
   ]
  },
  {
   "cell_type": "code",
   "execution_count": 5,
   "metadata": {},
   "outputs": [
    {
     "name": "stdout",
     "output_type": "stream",
     "text": [
      "0.9094827586206896\n",
      "0.09789313324566545\n",
      "0.768105525459195\n",
      "0.4524685853514178\n",
      "0.6485458553351205\n",
      "0.5971268353791073\n",
      "0.2459375113248825\n",
      "0.6824414167424728\n",
      "0.5835573108031832\n",
      "0.6671804780590123\n"
     ]
    }
   ],
   "source": [
    "# b\n",
    "def gcl2(seed = 10, iterations = 10, multiplier = 1013904223, addition = 1664525, module = 232):\n",
    "  x = seed\n",
    "  for _ in range(iterations):\n",
    "    x = ((multiplier * x + addition) % module) / module\n",
    "    print(x)\n",
    "\n",
    "gcl2()"
   ]
  },
  {
   "cell_type": "code",
   "execution_count": 8,
   "metadata": {},
   "outputs": [
    {
     "data": {
      "image/png": "[encoded data removed]",
      "text/plain": [
       "<Figure size 432x288 with 1 Axes>"
      ]
     },
     "metadata": {
      "needs_background": "light"
     },
     "output_type": "display_data"
    }
   ],
   "source": [
    "# c\n",
    "import matplotlib.pyplot as plt\n",
    "\n",
    "def gcl_with_histogram(seed = 10, iterations = 10, multiplier = 1013904223, addition = 1664525, module = 232):\n",
    "  results = []\n",
    "  x = seed\n",
    "  for _ in range(iterations):\n",
    "    x = ((multiplier * x + addition) % module) / module\n",
    "    results.append(x)\n",
    "\n",
    "  bins = [ bin / 10 for bin in range(10) ]\n",
    "  plt.hist(results, bins)\n",
    "  plt.show()\n",
    "\n",
    "gcl_with_histogram(iterations= 100000)"
   ]
  },
  {
   "cell_type": "markdown",
   "metadata": {},
   "source": [
    "### Punto 3"
   ]
  },
  {
   "cell_type": "markdown",
   "metadata": {},
   "source": [
    "Aplicando el algoritmo de Aceptación y rechazo se pide:\n",
    "\n",
    "* Generar 100.000 número aleatorios con distribución Normal de media 15 y desvío estándar 3 .\n",
    "* Realizar un histograma de frecuencias relativas con todos los valores obtenidos.\n",
    "* Comparar, en el mismo gráfico, el histograma realizado en el punto anterior con la función de densidad de probabilidad brindada por Matlab, Octave o Python (para esta última distribución utilizar un gráfico de línea).\n",
    "* Calcular la media y la varianza de la distribución obtenida y compararlos con los valores teóricos.\n",
    "* Calcule el factor de rendimiento del método."
   ]
  },
  {
   "cell_type": "code",
   "execution_count": 2,
   "metadata": {},
   "outputs": [],
   "source": [
    "from math import sqrt, exp, pi\n",
    "import numpy as np\n",
    "from numpy.random import exponential, rand, normal\n",
    "import matplotlib.pyplot as plt\n",
    "from time import time\n",
    "\n",
    "\n",
    "def normal_distribution(x, mu, sigma):\n",
    "    exponent = (-1) * (x - mu) ** 2 / (2 * (sigma ** 2))\n",
    "    scalar = 1/(sigma * sqrt(2 * pi))\n",
    "    return scalar * exp(exponent)\n",
    "\n",
    "\n",
    "def exponential_distribution(y, _lambda):\n",
    "    return _lambda * exp((-1) * _lambda * y)\n",
    "\n",
    "\n",
    "def c_value(mu, sigma, _lambda):\n",
    "    t = sigma ** 2 * _lambda\n",
    "    f_x_t = normal_distribution(t, mu, sigma)\n",
    "    f_y_t = exponential_distribution(t, _lambda)\n",
    "    return f_x_t/f_y_t\n",
    "\n",
    "\n",
    "def generate_normal(mu, sigma, _lambda, n):\n",
    "    samples = exponential(1 / _lambda, n)\n",
    "    samples = [sample+mu for sample in samples]\n",
    "    c = c_value(mu, sigma, _lambda)\n",
    "    f_x = lambda x: normal_distribution(x, mu, sigma)\n",
    "    f_y = lambda x: exponential_distribution(x, _lambda)\n",
    "    p = [f_x(t)/(c * f_y(t)) for t in samples]\n",
    "    z = []\n",
    "    percentage_of_rejections = 0\n",
    "    total = 0\n",
    "    i = 0\n",
    "    while i < n:\n",
    "        if rand() >= p[i]:\n",
    "            percentage_of_rejections += 1\n",
    "            total += 1\n",
    "            continue\n",
    "        if rand() < 0.5:\n",
    "            z.append(samples[i])\n",
    "        else:\n",
    "            z.append((-1)*samples[i]+2*mu)\n",
    "        total += 1\n",
    "        i += 1\n",
    "    percentage_of_rejections = percentage_of_rejections / total\n",
    "    return z, percentage_of_rejections\n",
    "\n",
    "\n",
    "def map_relative_frequencies(values):\n",
    "    size = len(values)\n",
    "    freq = {}\n",
    "    for val in values:\n",
    "        if val in freq:\n",
    "            freq[val] += 1\n",
    "        else:\n",
    "            freq[val] = 0\n",
    "    return list(map(lambda x: float(x/size), freq.values()))\n",
    "\n",
    "\n",
    "def relative_frequency_histogram(plt, values):\n",
    "    return plt.hist(values, histtype='barstacked', density=True)\n",
    "\n",
    "\n",
    "def graph_normal_density_function(plt, mu, sigma, n):\n",
    "    x = normal(loc=mu, scale=sigma, size=n)\n",
    "    x.sort()\n",
    "    y = [normal_distribution(t, mu, sigma) for t in x]\n",
    "    label = 'normal'\n",
    "    plt.plot(x, y, color='C2', label=label, ls='--')\n",
    "    plt.legend(loc='upper right')"
   ]
  },
  {
   "cell_type": "code",
   "execution_count": 8,
   "metadata": {},
   "outputs": [
    {
     "name": "stdout",
     "output_type": "stream",
     "text": [
      "('time elapsed: ', 0.46865296363830566, 'seconds')\n"
     ]
    },
    {
     "data": {
      "image/png": "[encoded data removed]",
      "text/plain": [
       "<matplotlib.figure.Figure at 0x7fc97c300bd0>"
      ]
     },
     "metadata": {},
     "output_type": "display_data"
    },
    {
     "name": "stdout",
     "output_type": "stream",
     "text": [
      "('mu:', 15.001291993004909, '- error: ', 0.0012919930049086759)\n",
      "('actual sigma: ', 8.063187372025235, '- error: ', 0.9368126279747653)\n",
      "('percentage_of_rejections:', 0)\n"
     ]
    }
   ],
   "source": [
    "mu = 15\n",
    "sigma = 3\n",
    "variance = sigma**2\n",
    "_lambda = 0.5\n",
    "n = 100000\n",
    "start = time()\n",
    "normal_values, percentage_of_rejections = generate_normal(mu, sigma, _lambda, n)\n",
    "time_elapsed = time() - start\n",
    "print(\"time elapsed: \", time_elapsed, \"seconds\")\n",
    "plt.figure(figsize=(5, 5))\n",
    "relative_frequency_histogram(plt, normal_values)\n",
    "graph_normal_density_function(plt, mu, sigma, n)\n",
    "plt.show()\n",
    "actual_mean = np.mean(normal_values)\n",
    "mean_error = abs(mu - actual_mean)\n",
    "print(\"mu:\", actual_mean, \"- error: \", mean_error)\n",
    "actual_variance = np.std(normal_values, ddof=1)**2\n",
    "variance_error = abs(variance - actual_variance)\n",
    "print(\"actual sigma: \", actual_variance, \"- error: \", variance_error)\n",
    "print(\"percentage_of_rejections:\"  ,percentage_of_rejections)"
   ]
  },
  {
   "cell_type": "code",
   "execution_count": null,
   "metadata": {},
   "outputs": [],
   "source": []
  }
 ],
 "metadata": {
  "kernelspec": {
   "display_name": "Python 2",
   "language": "python",
   "name": "python2"
  },
  "language_info": {
   "codemirror_mode": {
    "name": "ipython",
    "version": 2
   },
   "file_extension": ".py",
   "mimetype": "text/x-python",
   "name": "python",
   "nbconvert_exporter": "python",
   "pygments_lexer": "ipython2",
   "version": "2.7.15+"
  }
 },
 "nbformat": 4,
 "nbformat_minor": 2
}
