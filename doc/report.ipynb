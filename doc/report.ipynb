{
 "cells": [
  {
   "cell_type": "markdown",
   "metadata": {},
   "source": [
    "# Trabajo practico 1"
   ]
  },
  {
   "cell_type": "markdown",
   "metadata": {},
   "source": [
    "Utilizando Matlab, Octave o Python implementar un **Generador Congruencial Lineal** (GCL) de módulo 232, multiplicador 1013904223, incremento de 1664525 y semilla igual a la parte entera del promedio de los números de padrón de los integrantes del grupo.\n",
    "\n",
    "a) Informar los primeros 10 números generados.\n",
    "\n",
    "b) Modificar el GCL para que devuelva números al azar entre 0 y 1.\n",
    "\n",
    "c) Realizar un histograma mostrando 100.000 valores generados en el punto b."
   ]
  },
  {
   "cell_type": "code",
   "execution_count": 2,
   "metadata": {},
   "outputs": [
    {
     "name": "stdout",
     "output_type": "stream",
     "text": [
      "211\n",
      "90\n",
      "179\n",
      "10\n",
      "211\n",
      "90\n",
      "179\n",
      "10\n",
      "211\n",
      "90\n"
     ]
    }
   ],
   "source": [
    "# a\n",
    "def gcl(seed = 10, iterations = 10, multiplier = 1013904223, addition = 1664525, module = 232):\n",
    "  x = seed\n",
    "  for _ in range(iterations):\n",
    "    x = (multiplier * x + addition) % module\n",
    "    print(x)\n",
    "\n",
    "gcl()"
   ]
  },
  {
   "cell_type": "code",
   "execution_count": 5,
   "metadata": {},
   "outputs": [
    {
     "name": "stdout",
     "output_type": "stream",
     "text": [
      "0.9094827586206896\n",
      "0.09789313324566545\n",
      "0.768105525459195\n",
      "0.4524685853514178\n",
      "0.6485458553351205\n",
      "0.5971268353791073\n",
      "0.2459375113248825\n",
      "0.6824414167424728\n",
      "0.5835573108031832\n",
      "0.6671804780590123\n"
     ]
    }
   ],
   "source": [
    "# b\n",
    "def gcl2(seed = 10, iterations = 10, multiplier = 1013904223, addition = 1664525, module = 232):\n",
    "  x = seed\n",
    "  for _ in range(iterations):\n",
    "    x = ((multiplier * x + addition) % module) / module\n",
    "    print(x)\n",
    "\n",
    "gcl2()"
   ]
  },
  {
   "cell_type": "code",
   "execution_count": 8,
   "metadata": {},
   "outputs": [
    {
     "data": {
      "image/png": "[encoded data removed]",
      "text/plain": [
       "<Figure size 432x288 with 1 Axes>"
      ]
     },
     "metadata": {
      "needs_background": "light"
     },
     "output_type": "display_data"
    }
   ],
   "source": [
    "# c\n",
    "import matplotlib.pyplot as plt\n",
    "\n",
    "def gcl_with_histogram(seed = 10, iterations = 10, multiplier = 1013904223, addition = 1664525, module = 232):\n",
    "  results = []\n",
    "  x = seed\n",
    "  for _ in range(iterations):\n",
    "    x = ((multiplier * x + addition) % module) / module\n",
    "    results.append(x)\n",
    "\n",
    "  bins = [ bin / 10 for bin in range(10) ]\n",
    "  plt.hist(results, bins)\n",
    "  plt.show()\n",
    "\n",
    "gcl_with_histogram(iterations= 100000)"
   ]
  }
 ],
 "metadata": {
  "kernelspec": {
   "display_name": "Python 3",
   "language": "python",
   "name": "python3"
  },
  "language_info": {
   "codemirror_mode": {
    "name": "ipython",
    "version": 3
   },
   "file_extension": ".py",
   "mimetype": "text/x-python",
   "name": "python",
   "nbconvert_exporter": "python",
   "pygments_lexer": "ipython3",
   "version": "3.7.4"
  }
 },
 "nbformat": 4,
 "nbformat_minor": 2
}
